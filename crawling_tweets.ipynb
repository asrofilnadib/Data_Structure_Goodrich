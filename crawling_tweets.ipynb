{
 "cells": [
  {
   "cell_type": "code",
   "execution_count": 1,
   "metadata": {
    "collapsed": true
   },
   "outputs": [],
   "source": [
    "import snscrape.modules.twitter as sn\n",
    "import pandas as pd"
   ]
  },
  {
   "cell_type": "code",
   "execution_count": 2,
   "outputs": [],
   "source": [
    "pd.options.display.max_colwidth = 100"
   ],
   "metadata": {
    "collapsed": false
   }
  },
  {
   "cell_type": "code",
   "execution_count": 3,
   "outputs": [
    {
     "name": "stdout",
     "output_type": "stream",
     "text": [
      "CPU times: total: 0 ns\n",
      "Wall time: 0 ns\n",
      "Start Crawling moana\n"
     ]
    },
    {
     "name": "stderr",
     "output_type": "stream",
     "text": [
      "C:\\Users\\Nadib\\AppData\\Local\\Temp\\ipykernel_14800\\4259843027.py:12: FutureWarning: content is deprecated, use rawContent instead\n",
      "  tweets.append([tweet.date, tweet.user.username, tweet.content])\n"
     ]
    },
    {
     "name": "stdout",
     "output_type": "stream",
     "text": [
      "Finished...\n",
      "--------------\n"
     ]
    }
   ],
   "source": [
    "q = input(\"Masukan konteks tweets: \")\n",
    "tweets = []\n",
    "limit = 500\n",
    "\n",
    "%time\n",
    "try:\n",
    "    print(\"Start Crawling\", q)\n",
    "    for tweet in sn.TwitterSearchScraper(query=q).get_items():\n",
    "        if len(tweets) == limit:\n",
    "            break\n",
    "        else:\n",
    "            tweets.append([tweet.date, tweet.user.username, tweet.content])\n",
    "    df = pd.DataFrame(tweets, columns=['datetime',\n",
    "                                       'username',\n",
    "                                       'tweets'])\n",
    "except Exception as e:\n",
    "    print(e)\n",
    "\n",
    "print(\"Finished...\")\n",
    "print(\"--------------\")"
   ],
   "metadata": {
    "collapsed": false
   }
  },
  {
   "cell_type": "code",
   "execution_count": 4,
   "outputs": [
    {
     "data": {
      "text/plain": "                     datetime         username  \\\n0   2023-02-01 14:10:21+00:00     dearcyeonjun   \n1   2023-02-01 14:09:32+00:00         z1ggy_mc   \n2   2023-02-01 14:08:51+00:00      warrenmyers   \n3   2023-02-01 14:08:19+00:00           jjprz_   \n4   2023-02-01 14:03:37+00:00      Kjisoonistt   \n..                        ...              ...   \n995 2023-01-31 13:32:11+00:00        lululabuw   \n996 2023-01-31 13:31:24+00:00  Putri_Rahma3004   \n997 2023-01-31 13:30:16+00:00         chminya_   \n998 2023-01-31 13:28:00+00:00         goghkkjk   \n999 2023-01-31 13:26:55+00:00  laylaxjake_1115   \n\n                                                                                                  tweets  \n0                                                                        base moana menfes lagi off ya ?  \n1    *Writing the most unholy things*\\n\\n*also playing animal crossing and listening to the moana sou...  \n2    👍 on @YouTube: \"You're Welcome\" | Dwayne Johnson Moana Parody | The Holderness Family https://t....  \n3    At my sister's house for dinner....\\n\\nAlex, my niece: NINI LETS WATCH MOANA!\\nMe: OK! (I've nev...  \n4                                                                                     @hannipIanet Moana  \n..                                                                                                   ...  \n995                                                                                   @cinderjaems Moana  \n996  Demi apaa?? Cakep banget woylah😭\\n\\n#ไบร์ทวิน Guru Moana Januari Nikah di KUA https://t.co/iMaEd...  \n997                                                  Adik kesayangan Moana 😭😭❤️🤏 https://t.co/qrD9HmbBEQ  \n998                                                  a música \"seu lugar\" da moana é levemente comunista  \n999                                                                                @Merida_Moana Scammer  \n\n[1000 rows x 3 columns]",
      "text/html": "<div>\n<style scoped>\n    .dataframe tbody tr th:only-of-type {\n        vertical-align: middle;\n    }\n\n    .dataframe tbody tr th {\n        vertical-align: top;\n    }\n\n    .dataframe thead th {\n        text-align: right;\n    }\n</style>\n<table border=\"1\" class=\"dataframe\">\n  <thead>\n    <tr style=\"text-align: right;\">\n      <th></th>\n      <th>datetime</th>\n      <th>username</th>\n      <th>tweets</th>\n    </tr>\n  </thead>\n  <tbody>\n    <tr>\n      <th>0</th>\n      <td>2023-02-01 14:10:21+00:00</td>\n      <td>dearcyeonjun</td>\n      <td>base moana menfes lagi off ya ?</td>\n    </tr>\n    <tr>\n      <th>1</th>\n      <td>2023-02-01 14:09:32+00:00</td>\n      <td>z1ggy_mc</td>\n      <td>*Writing the most unholy things*\\n\\n*also playing animal crossing and listening to the moana sou...</td>\n    </tr>\n    <tr>\n      <th>2</th>\n      <td>2023-02-01 14:08:51+00:00</td>\n      <td>warrenmyers</td>\n      <td>👍 on @YouTube: \"You're Welcome\" | Dwayne Johnson Moana Parody | The Holderness Family https://t....</td>\n    </tr>\n    <tr>\n      <th>3</th>\n      <td>2023-02-01 14:08:19+00:00</td>\n      <td>jjprz_</td>\n      <td>At my sister's house for dinner....\\n\\nAlex, my niece: NINI LETS WATCH MOANA!\\nMe: OK! (I've nev...</td>\n    </tr>\n    <tr>\n      <th>4</th>\n      <td>2023-02-01 14:03:37+00:00</td>\n      <td>Kjisoonistt</td>\n      <td>@hannipIanet Moana</td>\n    </tr>\n    <tr>\n      <th>...</th>\n      <td>...</td>\n      <td>...</td>\n      <td>...</td>\n    </tr>\n    <tr>\n      <th>995</th>\n      <td>2023-01-31 13:32:11+00:00</td>\n      <td>lululabuw</td>\n      <td>@cinderjaems Moana</td>\n    </tr>\n    <tr>\n      <th>996</th>\n      <td>2023-01-31 13:31:24+00:00</td>\n      <td>Putri_Rahma3004</td>\n      <td>Demi apaa?? Cakep banget woylah😭\\n\\n#ไบร์ทวิน Guru Moana Januari Nikah di KUA https://t.co/iMaEd...</td>\n    </tr>\n    <tr>\n      <th>997</th>\n      <td>2023-01-31 13:30:16+00:00</td>\n      <td>chminya_</td>\n      <td>Adik kesayangan Moana 😭😭❤️🤏 https://t.co/qrD9HmbBEQ</td>\n    </tr>\n    <tr>\n      <th>998</th>\n      <td>2023-01-31 13:28:00+00:00</td>\n      <td>goghkkjk</td>\n      <td>a música \"seu lugar\" da moana é levemente comunista</td>\n    </tr>\n    <tr>\n      <th>999</th>\n      <td>2023-01-31 13:26:55+00:00</td>\n      <td>laylaxjake_1115</td>\n      <td>@Merida_Moana Scammer</td>\n    </tr>\n  </tbody>\n</table>\n<p>1000 rows × 3 columns</p>\n</div>"
     },
     "execution_count": 4,
     "metadata": {},
     "output_type": "execute_result"
    }
   ],
   "source": [
    "df"
   ],
   "metadata": {
    "collapsed": false
   }
  },
  {
   "cell_type": "code",
   "execution_count": 11,
   "outputs": [],
   "source": [
    "df.to_csv('crawl_tweets.csv', index=False)"
   ],
   "metadata": {
    "collapsed": false
   }
  },
  {
   "cell_type": "code",
   "execution_count": null,
   "outputs": [],
   "source": [],
   "metadata": {
    "collapsed": false
   }
  }
 ],
 "metadata": {
  "kernelspec": {
   "display_name": "Python 3",
   "language": "python",
   "name": "python3"
  },
  "language_info": {
   "codemirror_mode": {
    "name": "ipython",
    "version": 2
   },
   "file_extension": ".py",
   "mimetype": "text/x-python",
   "name": "python",
   "nbconvert_exporter": "python",
   "pygments_lexer": "ipython2",
   "version": "2.7.6"
  }
 },
 "nbformat": 4,
 "nbformat_minor": 0
}
